{
 "cells": [
  {
   "cell_type": "markdown",
   "id": "ca16b0dcbd702783",
   "metadata": {
    "collapsed": false
   },
   "source": [
    "***\n",
    "**<center><font size = \"6\"> Part 1 - Risk Model Challenge Analysis</font><center>**\n",
    "***\n",
    "<center><font size = \"2\">Prepared by: Nahim Olguin<center>"
   ]
  },
  {
   "cell_type": "markdown",
   "source": [
    "# Table of Contents\n",
    "1. [Business Objective](#Business-Objective)\n",
    "2. [Exploratory Data Analysis (EDA)](#Exploratory-Data-Analysis-(EDA))\n",
    "\n",
    "    - [Univariate Analysis](#Univariate-Analysis)\n",
    "    - [Multivariate Analysis](#Multivariate-Analysis)\n",
    "    - [Data Visualization](#Data-Visualization)\n",
    "    \n",
    "3. [Data Modeling](#Data-Modeling)\n",
    "    - [Data Preprocessing](#Data-Preprocessing)\n",
    "    - [Data Cleaning](#Data-Cleaning)\n",
    "    - [Data Transformation](#Data-Transformation-Strategy)\n",
    "    - [Encoding](#Encoding)\n",
    "    - [Feature Selection](#Feature-Selection)\n",
    "    - [Model Selection](#Model-Selection-Train-&-Test)\n",
    "4. [Model Evaluation](#Model-Evaluation)\n",
    "    - [Cross-validation](#Cross-validation)\n",
    "    - [Metrics](#Metrics)\n",
    "5. [Web Integration](#Web-Integration)"
   ],
   "metadata": {
    "collapsed": false
   },
   "id": "e714451d6c9f7a4a"
  },
  {
   "cell_type": "code",
   "execution_count": 26,
   "outputs": [
    {
     "data": {
      "text/plain": "<IPython.core.display.HTML object>",
      "text/html": "<style>\n    .qst {padding:10px; border-radius: 5px; border: solid 2px #EF6E1A;}\n    .qst:before {font-weight: bold;display: block; margin: 0px 10px 10px 10px;}\n    h1,h3 {color: #EF6E1A;}\n</style>\n"
     },
     "metadata": {},
     "output_type": "display_data"
    }
   ],
   "source": [
    "%%html\n",
    "<style>\n",
    "    .qst {padding:10px; border-radius: 5px; border: solid 2px #EF6E1A;}\n",
    "    .qst:before {font-weight: bold;display: block; margin: 0px 10px 10px 10px;}\n",
    "    h1,h3 {color: #EF6E1A;}\n",
    "</style>"
   ],
   "metadata": {
    "collapsed": false,
    "ExecuteTime": {
     "end_time": "2023-10-27T13:38:56.690420Z",
     "start_time": "2023-10-27T13:38:56.661756Z"
    }
   },
   "id": "1949c9cd3b9b27ec"
  },
  {
   "cell_type": "markdown",
   "source": [
    "## Business Objective\n"
   ],
   "metadata": {
    "collapsed": false
   },
   "id": "760b0266d5d36f66"
  },
  {
   "cell_type": "markdown",
   "source": [
    "To develop a predictive model that effectively differentiates between good and risky customers for Bankaya, thereby aiding in more accurate credit approval decisions. The model will specifically focus on new customers applying for their first loan to purchase a smartphone. Each step in the development process must be rigorously justified and documented to ensure both efficacy and transparency. \n",
    "\n",
    "You can find the repository in Github in the following link: <https://archive.ics.uci.edu/ml/datasets/Online+Retail#>"
   ],
   "metadata": {
    "collapsed": false
   },
   "id": "e2476bc9e78fa46d"
  },
  {
   "cell_type": "markdown",
   "source": [
    "***"
   ],
   "metadata": {
    "collapsed": false
   },
   "id": "743c17acf2f2457c"
  },
  {
   "cell_type": "code",
   "execution_count": 4,
   "outputs": [],
   "source": [
    "# -- Import necessary libraries\n",
    "import pandas as pd"
   ],
   "metadata": {
    "collapsed": false,
    "ExecuteTime": {
     "end_time": "2023-10-27T12:43:14.312789Z",
     "start_time": "2023-10-27T12:43:13.489917Z"
    }
   },
   "id": "84e5a7229b5f8748"
  },
  {
   "cell_type": "code",
   "execution_count": 17,
   "outputs": [],
   "source": [
    "customer_loan_df = pd.read_parquet(\"input/main_dataset.parquet\") #---> main dataset\n",
    "credit_report_df = pd.read_parquet(\"input/credit_reports.parquet\") # ---> credit reports\n"
   ],
   "metadata": {
    "collapsed": false,
    "ExecuteTime": {
     "end_time": "2023-10-27T13:28:22.211714Z",
     "start_time": "2023-10-27T13:28:22.014437Z"
    }
   },
   "id": "e0beaff304c2fe8"
  },
  {
   "cell_type": "code",
   "execution_count": 18,
   "outputs": [
    {
     "data": {
      "text/plain": "   customer_id  loan_id ACC_CREATION_DATETIME APPLICATION_DATETIME  \\\n0         1223        1   2021-08-23 13:57:56  2022-04-26 07:00:00   \n1         5190        2   2022-04-26 09:57:25  2022-04-26 07:00:00   \n2         5194        3   2022-04-26 12:22:35  2022-04-26 07:00:00   \n3         3978        4   2022-03-09 11:26:55  2022-04-26 07:00:00   \n4         4535        5   2022-04-01 14:28:42  2022-04-26 07:00:00   \n5         3604        6   2022-02-21 11:55:32  2022-05-05 07:00:00   \n6          271        7   2021-04-06 16:30:21  2022-05-05 07:00:00   \n7         5430        8   2022-05-05 18:28:18  2022-05-05 07:00:00   \n8         5128        9   2022-04-22 17:53:08  2022-05-05 07:00:00   \n9         4402       10   2022-03-26 18:39:59  2022-05-05 07:00:00   \n\n  LOAN_ORIGINATION_DATETIME  max_days_late  target  \\\n0       2022-10-20 18:26:35              5       0   \n1       2022-12-22 18:03:32              2       0   \n2       2022-08-09 17:31:05              4       0   \n3       2022-11-11 19:48:08              2       0   \n4       2022-07-24 12:07:15              2       0   \n5       2022-12-08 07:12:18              7       0   \n6       2023-04-21 15:40:10              0       0   \n7       2023-01-10 20:02:22              0       0   \n8       2022-09-30 14:31:03              7       0   \n9       2023-01-17 22:43:09              8       0   \n\n   account_to_application_days  n_sf_apps first_app_date last_app_date  \\\n0                          245        1.0     2022-04-25    2022-04-25   \n1                            0        NaN            NaT           NaT   \n2                            0        NaN            NaT           NaT   \n3                           47        1.0     2022-03-17    2022-03-17   \n4                           24        1.0     2022-04-01    2022-04-01   \n5                           72        1.0     2022-02-21    2022-02-21   \n6                          393        NaN            NaT           NaT   \n7                            0        NaN            NaT           NaT   \n8                           12        2.0     2022-05-05    2022-04-22   \n9                           39        NaN            NaT           NaT   \n\n   n_bnpl_apps  n_bnpl_approved_apps     first_bnpl_app_date  \\\n0          1.0                   0.0 2022-04-26 02:15:17.742   \n1          NaN                   NaN                     NaT   \n2          NaN                   NaN                     NaT   \n3          2.0                   0.0 2022-03-19 22:02:50.555   \n4          1.0                   0.0 2022-04-01 19:37:56.185   \n5          NaN                   NaN                     NaT   \n6          1.0                   0.0 2022-05-04 23:18:03.604   \n7          NaN                   NaN                     NaT   \n8          1.0                   0.0 2022-04-22 22:59:05.990   \n9          NaN                   NaN                     NaT   \n\n       last_bnpl_app_date  n_inquiries_l3m  n_inquiries_l6m  \n0 2022-04-26 02:15:17.742             91.0             91.0  \n1                     NaT              NaN              NaN  \n2                     NaT              NaN              NaN  \n3 2022-03-09 16:41:49.675             13.0             13.0  \n4 2022-04-01 19:37:56.185             21.0             21.0  \n5                     NaT             26.0             26.0  \n6 2022-05-04 23:18:03.604             11.0             11.0  \n7                     NaT              NaN              NaN  \n8 2022-04-22 22:59:05.990              8.0              8.0  \n9                     NaT              NaN              NaN  ",
      "text/html": "<div>\n<style scoped>\n    .dataframe tbody tr th:only-of-type {\n        vertical-align: middle;\n    }\n\n    .dataframe tbody tr th {\n        vertical-align: top;\n    }\n\n    .dataframe thead th {\n        text-align: right;\n    }\n</style>\n<table border=\"1\" class=\"dataframe\">\n  <thead>\n    <tr style=\"text-align: right;\">\n      <th></th>\n      <th>customer_id</th>\n      <th>loan_id</th>\n      <th>ACC_CREATION_DATETIME</th>\n      <th>APPLICATION_DATETIME</th>\n      <th>LOAN_ORIGINATION_DATETIME</th>\n      <th>max_days_late</th>\n      <th>target</th>\n      <th>account_to_application_days</th>\n      <th>n_sf_apps</th>\n      <th>first_app_date</th>\n      <th>last_app_date</th>\n      <th>n_bnpl_apps</th>\n      <th>n_bnpl_approved_apps</th>\n      <th>first_bnpl_app_date</th>\n      <th>last_bnpl_app_date</th>\n      <th>n_inquiries_l3m</th>\n      <th>n_inquiries_l6m</th>\n    </tr>\n  </thead>\n  <tbody>\n    <tr>\n      <th>0</th>\n      <td>1223</td>\n      <td>1</td>\n      <td>2021-08-23 13:57:56</td>\n      <td>2022-04-26 07:00:00</td>\n      <td>2022-10-20 18:26:35</td>\n      <td>5</td>\n      <td>0</td>\n      <td>245</td>\n      <td>1.0</td>\n      <td>2022-04-25</td>\n      <td>2022-04-25</td>\n      <td>1.0</td>\n      <td>0.0</td>\n      <td>2022-04-26 02:15:17.742</td>\n      <td>2022-04-26 02:15:17.742</td>\n      <td>91.0</td>\n      <td>91.0</td>\n    </tr>\n    <tr>\n      <th>1</th>\n      <td>5190</td>\n      <td>2</td>\n      <td>2022-04-26 09:57:25</td>\n      <td>2022-04-26 07:00:00</td>\n      <td>2022-12-22 18:03:32</td>\n      <td>2</td>\n      <td>0</td>\n      <td>0</td>\n      <td>NaN</td>\n      <td>NaT</td>\n      <td>NaT</td>\n      <td>NaN</td>\n      <td>NaN</td>\n      <td>NaT</td>\n      <td>NaT</td>\n      <td>NaN</td>\n      <td>NaN</td>\n    </tr>\n    <tr>\n      <th>2</th>\n      <td>5194</td>\n      <td>3</td>\n      <td>2022-04-26 12:22:35</td>\n      <td>2022-04-26 07:00:00</td>\n      <td>2022-08-09 17:31:05</td>\n      <td>4</td>\n      <td>0</td>\n      <td>0</td>\n      <td>NaN</td>\n      <td>NaT</td>\n      <td>NaT</td>\n      <td>NaN</td>\n      <td>NaN</td>\n      <td>NaT</td>\n      <td>NaT</td>\n      <td>NaN</td>\n      <td>NaN</td>\n    </tr>\n    <tr>\n      <th>3</th>\n      <td>3978</td>\n      <td>4</td>\n      <td>2022-03-09 11:26:55</td>\n      <td>2022-04-26 07:00:00</td>\n      <td>2022-11-11 19:48:08</td>\n      <td>2</td>\n      <td>0</td>\n      <td>47</td>\n      <td>1.0</td>\n      <td>2022-03-17</td>\n      <td>2022-03-17</td>\n      <td>2.0</td>\n      <td>0.0</td>\n      <td>2022-03-19 22:02:50.555</td>\n      <td>2022-03-09 16:41:49.675</td>\n      <td>13.0</td>\n      <td>13.0</td>\n    </tr>\n    <tr>\n      <th>4</th>\n      <td>4535</td>\n      <td>5</td>\n      <td>2022-04-01 14:28:42</td>\n      <td>2022-04-26 07:00:00</td>\n      <td>2022-07-24 12:07:15</td>\n      <td>2</td>\n      <td>0</td>\n      <td>24</td>\n      <td>1.0</td>\n      <td>2022-04-01</td>\n      <td>2022-04-01</td>\n      <td>1.0</td>\n      <td>0.0</td>\n      <td>2022-04-01 19:37:56.185</td>\n      <td>2022-04-01 19:37:56.185</td>\n      <td>21.0</td>\n      <td>21.0</td>\n    </tr>\n    <tr>\n      <th>5</th>\n      <td>3604</td>\n      <td>6</td>\n      <td>2022-02-21 11:55:32</td>\n      <td>2022-05-05 07:00:00</td>\n      <td>2022-12-08 07:12:18</td>\n      <td>7</td>\n      <td>0</td>\n      <td>72</td>\n      <td>1.0</td>\n      <td>2022-02-21</td>\n      <td>2022-02-21</td>\n      <td>NaN</td>\n      <td>NaN</td>\n      <td>NaT</td>\n      <td>NaT</td>\n      <td>26.0</td>\n      <td>26.0</td>\n    </tr>\n    <tr>\n      <th>6</th>\n      <td>271</td>\n      <td>7</td>\n      <td>2021-04-06 16:30:21</td>\n      <td>2022-05-05 07:00:00</td>\n      <td>2023-04-21 15:40:10</td>\n      <td>0</td>\n      <td>0</td>\n      <td>393</td>\n      <td>NaN</td>\n      <td>NaT</td>\n      <td>NaT</td>\n      <td>1.0</td>\n      <td>0.0</td>\n      <td>2022-05-04 23:18:03.604</td>\n      <td>2022-05-04 23:18:03.604</td>\n      <td>11.0</td>\n      <td>11.0</td>\n    </tr>\n    <tr>\n      <th>7</th>\n      <td>5430</td>\n      <td>8</td>\n      <td>2022-05-05 18:28:18</td>\n      <td>2022-05-05 07:00:00</td>\n      <td>2023-01-10 20:02:22</td>\n      <td>0</td>\n      <td>0</td>\n      <td>0</td>\n      <td>NaN</td>\n      <td>NaT</td>\n      <td>NaT</td>\n      <td>NaN</td>\n      <td>NaN</td>\n      <td>NaT</td>\n      <td>NaT</td>\n      <td>NaN</td>\n      <td>NaN</td>\n    </tr>\n    <tr>\n      <th>8</th>\n      <td>5128</td>\n      <td>9</td>\n      <td>2022-04-22 17:53:08</td>\n      <td>2022-05-05 07:00:00</td>\n      <td>2022-09-30 14:31:03</td>\n      <td>7</td>\n      <td>0</td>\n      <td>12</td>\n      <td>2.0</td>\n      <td>2022-05-05</td>\n      <td>2022-04-22</td>\n      <td>1.0</td>\n      <td>0.0</td>\n      <td>2022-04-22 22:59:05.990</td>\n      <td>2022-04-22 22:59:05.990</td>\n      <td>8.0</td>\n      <td>8.0</td>\n    </tr>\n    <tr>\n      <th>9</th>\n      <td>4402</td>\n      <td>10</td>\n      <td>2022-03-26 18:39:59</td>\n      <td>2022-05-05 07:00:00</td>\n      <td>2023-01-17 22:43:09</td>\n      <td>8</td>\n      <td>0</td>\n      <td>39</td>\n      <td>NaN</td>\n      <td>NaT</td>\n      <td>NaT</td>\n      <td>NaN</td>\n      <td>NaN</td>\n      <td>NaT</td>\n      <td>NaT</td>\n      <td>NaN</td>\n      <td>NaN</td>\n    </tr>\n  </tbody>\n</table>\n</div>"
     },
     "execution_count": 18,
     "metadata": {},
     "output_type": "execute_result"
    }
   ],
   "source": [
    "customer_loan_df.head(10)"
   ],
   "metadata": {
    "collapsed": false,
    "ExecuteTime": {
     "end_time": "2023-10-27T13:28:47.561029Z",
     "start_time": "2023-10-27T13:28:47.557365Z"
    }
   },
   "id": "ff1729a02b724da2"
  },
  {
   "cell_type": "code",
   "execution_count": 19,
   "outputs": [
    {
     "data": {
      "text/plain": "(14454, 17)"
     },
     "execution_count": 19,
     "metadata": {},
     "output_type": "execute_result"
    }
   ],
   "source": [
    "customer_loan_df.shape"
   ],
   "metadata": {
    "collapsed": false,
    "ExecuteTime": {
     "end_time": "2023-10-27T13:28:48.088574Z",
     "start_time": "2023-10-27T13:28:48.062429Z"
    }
   },
   "id": "30a74609c6aac1ea"
  },
  {
   "cell_type": "code",
   "execution_count": 20,
   "outputs": [
    {
     "data": {
      "text/plain": "array([0, 1])"
     },
     "execution_count": 20,
     "metadata": {},
     "output_type": "execute_result"
    }
   ],
   "source": [
    "customer_loan_df.target.unique()"
   ],
   "metadata": {
    "collapsed": false,
    "ExecuteTime": {
     "end_time": "2023-10-27T13:28:48.609222Z",
     "start_time": "2023-10-27T13:28:48.593522Z"
    }
   },
   "id": "653b24cbbeb2cd95"
  },
  {
   "cell_type": "code",
   "execution_count": 21,
   "outputs": [
    {
     "data": {
      "text/plain": "       customer_id  loan_id ACC_CREATION_DATETIME APPLICATION_DATETIME  \\\n13            1881       14   2021-10-01 23:29:27  2022-05-05 07:00:00   \n15            2888       16   2022-01-06 18:49:26  2022-05-05 07:00:00   \n19            1148       20   2021-08-14 20:18:11  2022-05-05 07:00:00   \n20            2092       21   2021-10-16 03:56:50  2022-05-05 07:00:00   \n34            3420       35   2022-02-11 13:21:38  2022-05-05 07:00:00   \n...            ...      ...                   ...                  ...   \n14383        13669    14384   2023-03-07 16:10:43  2023-04-25 07:00:00   \n14385         2561    14386   2021-11-30 14:33:55  2023-04-25 07:00:00   \n14391         9535    14392   2022-09-28 13:01:05  2023-04-26 07:00:00   \n14395          855    14396   2021-07-10 15:41:15  2023-04-26 07:00:00   \n14426         7444    14427   2022-07-26 11:05:14  2023-04-29 07:00:00   \n\n      LOAN_ORIGINATION_DATETIME  max_days_late  target  \\\n13          2022-07-19 19:30:28             55       1   \n15          2022-08-19 17:30:59             63       1   \n19          2022-09-14 10:01:41             49       1   \n20          2022-07-10 16:04:44             70       1   \n34          2022-09-19 12:46:37             49       1   \n...                         ...            ...     ...   \n14383       2023-04-27 21:22:14             41       1   \n14385       2023-04-28 18:12:14             63       1   \n14391       2023-04-28 12:21:23             70       1   \n14395       2023-04-28 19:20:18             69       1   \n14426       2023-05-06 21:03:38             48       1   \n\n       account_to_application_days  n_sf_apps first_app_date last_app_date  \\\n13                             215        5.0     2022-02-13    2022-03-03   \n15                             118        2.0     2022-01-06    2022-03-21   \n19                             263        5.0     2021-11-14    2021-08-18   \n20                             201        5.0     2021-11-04    2021-10-16   \n34                              82        6.0     2022-02-17    2022-02-11   \n...                            ...        ...            ...           ...   \n14383                           48        2.0     2023-03-07    2023-03-30   \n14385                          510        2.0     2022-10-13    2022-01-27   \n14391                          209        2.0     2022-09-30    2022-12-15   \n14395                          654        NaN            NaT           NaT   \n14426                          276        1.0     2022-10-02    2022-10-02   \n\n       n_bnpl_apps  n_bnpl_approved_apps     first_bnpl_app_date  \\\n13             2.0                   0.0 2022-03-25 05:17:17.377   \n15             1.0                   1.0 2022-03-22 01:09:37.569   \n19             1.0                   0.0 2022-04-23 03:31:00.402   \n20             NaN                   NaN                     NaT   \n34             2.0                   0.0 2022-03-31 13:27:22.991   \n...            ...                   ...                     ...   \n14383          1.0                   0.0 2023-03-07 21:11:51.882   \n14385          1.0                   0.0 2022-04-13 02:37:57.994   \n14391          1.0                   0.0 2022-10-05 05:16:47.042   \n14395          1.0                   0.0 2023-01-28 02:41:10.401   \n14426          1.0                   1.0 2022-11-24 09:12:50.259   \n\n           last_bnpl_app_date  n_inquiries_l3m  n_inquiries_l6m  \n13    2022-03-04 02:06:40.177              0.0              0.0  \n15    2022-03-22 01:09:37.569              0.0             17.0  \n19    2022-04-23 03:31:00.402              0.0              0.0  \n20                        NaT              0.0              0.0  \n34    2022-03-06 07:50:20.253             76.0             76.0  \n...                       ...              ...              ...  \n14383 2023-03-07 21:11:51.882             91.0             91.0  \n14385 2022-04-13 02:37:57.994              0.0              0.0  \n14391 2022-10-05 05:16:47.042              0.0              0.0  \n14395 2023-01-28 02:41:10.401             13.0             13.0  \n14426 2022-11-24 09:12:50.259              0.0              0.0  \n\n[2700 rows x 17 columns]",
      "text/html": "<div>\n<style scoped>\n    .dataframe tbody tr th:only-of-type {\n        vertical-align: middle;\n    }\n\n    .dataframe tbody tr th {\n        vertical-align: top;\n    }\n\n    .dataframe thead th {\n        text-align: right;\n    }\n</style>\n<table border=\"1\" class=\"dataframe\">\n  <thead>\n    <tr style=\"text-align: right;\">\n      <th></th>\n      <th>customer_id</th>\n      <th>loan_id</th>\n      <th>ACC_CREATION_DATETIME</th>\n      <th>APPLICATION_DATETIME</th>\n      <th>LOAN_ORIGINATION_DATETIME</th>\n      <th>max_days_late</th>\n      <th>target</th>\n      <th>account_to_application_days</th>\n      <th>n_sf_apps</th>\n      <th>first_app_date</th>\n      <th>last_app_date</th>\n      <th>n_bnpl_apps</th>\n      <th>n_bnpl_approved_apps</th>\n      <th>first_bnpl_app_date</th>\n      <th>last_bnpl_app_date</th>\n      <th>n_inquiries_l3m</th>\n      <th>n_inquiries_l6m</th>\n    </tr>\n  </thead>\n  <tbody>\n    <tr>\n      <th>13</th>\n      <td>1881</td>\n      <td>14</td>\n      <td>2021-10-01 23:29:27</td>\n      <td>2022-05-05 07:00:00</td>\n      <td>2022-07-19 19:30:28</td>\n      <td>55</td>\n      <td>1</td>\n      <td>215</td>\n      <td>5.0</td>\n      <td>2022-02-13</td>\n      <td>2022-03-03</td>\n      <td>2.0</td>\n      <td>0.0</td>\n      <td>2022-03-25 05:17:17.377</td>\n      <td>2022-03-04 02:06:40.177</td>\n      <td>0.0</td>\n      <td>0.0</td>\n    </tr>\n    <tr>\n      <th>15</th>\n      <td>2888</td>\n      <td>16</td>\n      <td>2022-01-06 18:49:26</td>\n      <td>2022-05-05 07:00:00</td>\n      <td>2022-08-19 17:30:59</td>\n      <td>63</td>\n      <td>1</td>\n      <td>118</td>\n      <td>2.0</td>\n      <td>2022-01-06</td>\n      <td>2022-03-21</td>\n      <td>1.0</td>\n      <td>1.0</td>\n      <td>2022-03-22 01:09:37.569</td>\n      <td>2022-03-22 01:09:37.569</td>\n      <td>0.0</td>\n      <td>17.0</td>\n    </tr>\n    <tr>\n      <th>19</th>\n      <td>1148</td>\n      <td>20</td>\n      <td>2021-08-14 20:18:11</td>\n      <td>2022-05-05 07:00:00</td>\n      <td>2022-09-14 10:01:41</td>\n      <td>49</td>\n      <td>1</td>\n      <td>263</td>\n      <td>5.0</td>\n      <td>2021-11-14</td>\n      <td>2021-08-18</td>\n      <td>1.0</td>\n      <td>0.0</td>\n      <td>2022-04-23 03:31:00.402</td>\n      <td>2022-04-23 03:31:00.402</td>\n      <td>0.0</td>\n      <td>0.0</td>\n    </tr>\n    <tr>\n      <th>20</th>\n      <td>2092</td>\n      <td>21</td>\n      <td>2021-10-16 03:56:50</td>\n      <td>2022-05-05 07:00:00</td>\n      <td>2022-07-10 16:04:44</td>\n      <td>70</td>\n      <td>1</td>\n      <td>201</td>\n      <td>5.0</td>\n      <td>2021-11-04</td>\n      <td>2021-10-16</td>\n      <td>NaN</td>\n      <td>NaN</td>\n      <td>NaT</td>\n      <td>NaT</td>\n      <td>0.0</td>\n      <td>0.0</td>\n    </tr>\n    <tr>\n      <th>34</th>\n      <td>3420</td>\n      <td>35</td>\n      <td>2022-02-11 13:21:38</td>\n      <td>2022-05-05 07:00:00</td>\n      <td>2022-09-19 12:46:37</td>\n      <td>49</td>\n      <td>1</td>\n      <td>82</td>\n      <td>6.0</td>\n      <td>2022-02-17</td>\n      <td>2022-02-11</td>\n      <td>2.0</td>\n      <td>0.0</td>\n      <td>2022-03-31 13:27:22.991</td>\n      <td>2022-03-06 07:50:20.253</td>\n      <td>76.0</td>\n      <td>76.0</td>\n    </tr>\n    <tr>\n      <th>...</th>\n      <td>...</td>\n      <td>...</td>\n      <td>...</td>\n      <td>...</td>\n      <td>...</td>\n      <td>...</td>\n      <td>...</td>\n      <td>...</td>\n      <td>...</td>\n      <td>...</td>\n      <td>...</td>\n      <td>...</td>\n      <td>...</td>\n      <td>...</td>\n      <td>...</td>\n      <td>...</td>\n      <td>...</td>\n    </tr>\n    <tr>\n      <th>14383</th>\n      <td>13669</td>\n      <td>14384</td>\n      <td>2023-03-07 16:10:43</td>\n      <td>2023-04-25 07:00:00</td>\n      <td>2023-04-27 21:22:14</td>\n      <td>41</td>\n      <td>1</td>\n      <td>48</td>\n      <td>2.0</td>\n      <td>2023-03-07</td>\n      <td>2023-03-30</td>\n      <td>1.0</td>\n      <td>0.0</td>\n      <td>2023-03-07 21:11:51.882</td>\n      <td>2023-03-07 21:11:51.882</td>\n      <td>91.0</td>\n      <td>91.0</td>\n    </tr>\n    <tr>\n      <th>14385</th>\n      <td>2561</td>\n      <td>14386</td>\n      <td>2021-11-30 14:33:55</td>\n      <td>2023-04-25 07:00:00</td>\n      <td>2023-04-28 18:12:14</td>\n      <td>63</td>\n      <td>1</td>\n      <td>510</td>\n      <td>2.0</td>\n      <td>2022-10-13</td>\n      <td>2022-01-27</td>\n      <td>1.0</td>\n      <td>0.0</td>\n      <td>2022-04-13 02:37:57.994</td>\n      <td>2022-04-13 02:37:57.994</td>\n      <td>0.0</td>\n      <td>0.0</td>\n    </tr>\n    <tr>\n      <th>14391</th>\n      <td>9535</td>\n      <td>14392</td>\n      <td>2022-09-28 13:01:05</td>\n      <td>2023-04-26 07:00:00</td>\n      <td>2023-04-28 12:21:23</td>\n      <td>70</td>\n      <td>1</td>\n      <td>209</td>\n      <td>2.0</td>\n      <td>2022-09-30</td>\n      <td>2022-12-15</td>\n      <td>1.0</td>\n      <td>0.0</td>\n      <td>2022-10-05 05:16:47.042</td>\n      <td>2022-10-05 05:16:47.042</td>\n      <td>0.0</td>\n      <td>0.0</td>\n    </tr>\n    <tr>\n      <th>14395</th>\n      <td>855</td>\n      <td>14396</td>\n      <td>2021-07-10 15:41:15</td>\n      <td>2023-04-26 07:00:00</td>\n      <td>2023-04-28 19:20:18</td>\n      <td>69</td>\n      <td>1</td>\n      <td>654</td>\n      <td>NaN</td>\n      <td>NaT</td>\n      <td>NaT</td>\n      <td>1.0</td>\n      <td>0.0</td>\n      <td>2023-01-28 02:41:10.401</td>\n      <td>2023-01-28 02:41:10.401</td>\n      <td>13.0</td>\n      <td>13.0</td>\n    </tr>\n    <tr>\n      <th>14426</th>\n      <td>7444</td>\n      <td>14427</td>\n      <td>2022-07-26 11:05:14</td>\n      <td>2023-04-29 07:00:00</td>\n      <td>2023-05-06 21:03:38</td>\n      <td>48</td>\n      <td>1</td>\n      <td>276</td>\n      <td>1.0</td>\n      <td>2022-10-02</td>\n      <td>2022-10-02</td>\n      <td>1.0</td>\n      <td>1.0</td>\n      <td>2022-11-24 09:12:50.259</td>\n      <td>2022-11-24 09:12:50.259</td>\n      <td>0.0</td>\n      <td>0.0</td>\n    </tr>\n  </tbody>\n</table>\n<p>2700 rows × 17 columns</p>\n</div>"
     },
     "execution_count": 21,
     "metadata": {},
     "output_type": "execute_result"
    }
   ],
   "source": [
    "customer_loan_df[customer_loan_df[\"target\"] == 1]\n"
   ],
   "metadata": {
    "collapsed": false,
    "ExecuteTime": {
     "end_time": "2023-10-27T13:28:49.165745Z",
     "start_time": "2023-10-27T13:28:49.115013Z"
    }
   },
   "id": "38916dbe5606f631"
  },
  {
   "cell_type": "code",
   "execution_count": 22,
   "outputs": [
    {
     "data": {
      "text/plain": "   customer_id                     INQUIRY_TIME  \\\n0         4223 2022-04-01 00:32:36.689000+00:00   \n1         4223 2022-04-01 00:32:36.689000+00:00   \n2         4223 2022-04-01 00:32:36.689000+00:00   \n3         3490 2022-02-15 02:30:22.086000+00:00   \n4         6486 2022-06-25 01:57:14.868000+00:00   \n\n                                CDC_INQUIRY_ID INQUIRY_DATE   PREVENTION_KEY  \\\n0  710278-27993a6e-2885-48d4-a753-9249e7022af1   2022-04-01  SIN OBSERVACION   \n1  710278-27993a6e-2885-48d4-a753-9249e7022af1   2022-04-01  SIN OBSERVACION   \n2  710278-27993a6e-2885-48d4-a753-9249e7022af1   2022-04-01  SIN OBSERVACION   \n3  622857-6b4e9d95-7491-40c3-bccd-442de7f94c58   2022-02-15  SIN OBSERVACION   \n4  875073-46a5f149-19db-4193-b92a-b8f41fb3e896   2022-06-25  SIN OBSERVACION   \n\n          CURRENCY  MAX_CREDIT  CREDIT_LIMIT  PAYMENT_AMOUNT UPDATE_DATE  ...  \\\n0  PESOS MEXICANOS      1244.0        9900.0          1244.0  2022-02-28  ...   \n1  PESOS MEXICANOS      1722.0        9900.0          1722.0  2022-02-28  ...   \n2  PESOS MEXICANOS      6346.0           0.0           482.0  2022-03-28  ...   \n3  PESOS MEXICANOS     11600.0           0.0           232.0  2022-02-01  ...   \n4  PESOS MEXICANOS      2452.0       16800.0          2452.0  2021-09-30  ...   \n\n  ACCOUNT_TYPE   RESPONSABILITY_TYPE TOTAL_PAYMENTS DELAYED_PAYMENTS  \\\n0  PAGOS FIJOS  INDIVIDUAL (TITULAR)           12.0                7   \n1   REVOLVENTE  INDIVIDUAL (TITULAR)            0.0                3   \n2  PAGOS FIJOS  INDIVIDUAL (TITULAR)           16.0                0   \n3  PAGOS FIJOS  INDIVIDUAL (TITULAR)          100.0                4   \n4   REVOLVENTE  INDIVIDUAL (TITULAR)            0.0               19   \n\n  CURRENT_PAYMENT WORST_DELAY TOTAL_REPORTED_PAYMENTS CURRENT_BALANCE  \\\n0              13        13.0                       0          1244.0   \n1              13        13.0                       0          1722.0   \n2               V         0.0                       0           943.0   \n3              01         1.0                       0          6185.0   \n4              13        13.0                       0          2452.0   \n\n  BALANCE_DUE BALANCE_DUE_WORST_DELAY  \n0      1244.0                  1244.0  \n1      1722.0                  1722.0  \n2         0.0                     0.0  \n3       116.0                   116.0  \n4      2452.0                  2452.0  \n\n[5 rows x 29 columns]",
      "text/html": "<div>\n<style scoped>\n    .dataframe tbody tr th:only-of-type {\n        vertical-align: middle;\n    }\n\n    .dataframe tbody tr th {\n        vertical-align: top;\n    }\n\n    .dataframe thead th {\n        text-align: right;\n    }\n</style>\n<table border=\"1\" class=\"dataframe\">\n  <thead>\n    <tr style=\"text-align: right;\">\n      <th></th>\n      <th>customer_id</th>\n      <th>INQUIRY_TIME</th>\n      <th>CDC_INQUIRY_ID</th>\n      <th>INQUIRY_DATE</th>\n      <th>PREVENTION_KEY</th>\n      <th>CURRENCY</th>\n      <th>MAX_CREDIT</th>\n      <th>CREDIT_LIMIT</th>\n      <th>PAYMENT_AMOUNT</th>\n      <th>UPDATE_DATE</th>\n      <th>...</th>\n      <th>ACCOUNT_TYPE</th>\n      <th>RESPONSABILITY_TYPE</th>\n      <th>TOTAL_PAYMENTS</th>\n      <th>DELAYED_PAYMENTS</th>\n      <th>CURRENT_PAYMENT</th>\n      <th>WORST_DELAY</th>\n      <th>TOTAL_REPORTED_PAYMENTS</th>\n      <th>CURRENT_BALANCE</th>\n      <th>BALANCE_DUE</th>\n      <th>BALANCE_DUE_WORST_DELAY</th>\n    </tr>\n  </thead>\n  <tbody>\n    <tr>\n      <th>0</th>\n      <td>4223</td>\n      <td>2022-04-01 00:32:36.689000+00:00</td>\n      <td>710278-27993a6e-2885-48d4-a753-9249e7022af1</td>\n      <td>2022-04-01</td>\n      <td>SIN OBSERVACION</td>\n      <td>PESOS MEXICANOS</td>\n      <td>1244.0</td>\n      <td>9900.0</td>\n      <td>1244.0</td>\n      <td>2022-02-28</td>\n      <td>...</td>\n      <td>PAGOS FIJOS</td>\n      <td>INDIVIDUAL (TITULAR)</td>\n      <td>12.0</td>\n      <td>7</td>\n      <td>13</td>\n      <td>13.0</td>\n      <td>0</td>\n      <td>1244.0</td>\n      <td>1244.0</td>\n      <td>1244.0</td>\n    </tr>\n    <tr>\n      <th>1</th>\n      <td>4223</td>\n      <td>2022-04-01 00:32:36.689000+00:00</td>\n      <td>710278-27993a6e-2885-48d4-a753-9249e7022af1</td>\n      <td>2022-04-01</td>\n      <td>SIN OBSERVACION</td>\n      <td>PESOS MEXICANOS</td>\n      <td>1722.0</td>\n      <td>9900.0</td>\n      <td>1722.0</td>\n      <td>2022-02-28</td>\n      <td>...</td>\n      <td>REVOLVENTE</td>\n      <td>INDIVIDUAL (TITULAR)</td>\n      <td>0.0</td>\n      <td>3</td>\n      <td>13</td>\n      <td>13.0</td>\n      <td>0</td>\n      <td>1722.0</td>\n      <td>1722.0</td>\n      <td>1722.0</td>\n    </tr>\n    <tr>\n      <th>2</th>\n      <td>4223</td>\n      <td>2022-04-01 00:32:36.689000+00:00</td>\n      <td>710278-27993a6e-2885-48d4-a753-9249e7022af1</td>\n      <td>2022-04-01</td>\n      <td>SIN OBSERVACION</td>\n      <td>PESOS MEXICANOS</td>\n      <td>6346.0</td>\n      <td>0.0</td>\n      <td>482.0</td>\n      <td>2022-03-28</td>\n      <td>...</td>\n      <td>PAGOS FIJOS</td>\n      <td>INDIVIDUAL (TITULAR)</td>\n      <td>16.0</td>\n      <td>0</td>\n      <td>V</td>\n      <td>0.0</td>\n      <td>0</td>\n      <td>943.0</td>\n      <td>0.0</td>\n      <td>0.0</td>\n    </tr>\n    <tr>\n      <th>3</th>\n      <td>3490</td>\n      <td>2022-02-15 02:30:22.086000+00:00</td>\n      <td>622857-6b4e9d95-7491-40c3-bccd-442de7f94c58</td>\n      <td>2022-02-15</td>\n      <td>SIN OBSERVACION</td>\n      <td>PESOS MEXICANOS</td>\n      <td>11600.0</td>\n      <td>0.0</td>\n      <td>232.0</td>\n      <td>2022-02-01</td>\n      <td>...</td>\n      <td>PAGOS FIJOS</td>\n      <td>INDIVIDUAL (TITULAR)</td>\n      <td>100.0</td>\n      <td>4</td>\n      <td>01</td>\n      <td>1.0</td>\n      <td>0</td>\n      <td>6185.0</td>\n      <td>116.0</td>\n      <td>116.0</td>\n    </tr>\n    <tr>\n      <th>4</th>\n      <td>6486</td>\n      <td>2022-06-25 01:57:14.868000+00:00</td>\n      <td>875073-46a5f149-19db-4193-b92a-b8f41fb3e896</td>\n      <td>2022-06-25</td>\n      <td>SIN OBSERVACION</td>\n      <td>PESOS MEXICANOS</td>\n      <td>2452.0</td>\n      <td>16800.0</td>\n      <td>2452.0</td>\n      <td>2021-09-30</td>\n      <td>...</td>\n      <td>REVOLVENTE</td>\n      <td>INDIVIDUAL (TITULAR)</td>\n      <td>0.0</td>\n      <td>19</td>\n      <td>13</td>\n      <td>13.0</td>\n      <td>0</td>\n      <td>2452.0</td>\n      <td>2452.0</td>\n      <td>2452.0</td>\n    </tr>\n  </tbody>\n</table>\n<p>5 rows × 29 columns</p>\n</div>"
     },
     "execution_count": 22,
     "metadata": {},
     "output_type": "execute_result"
    }
   ],
   "source": [
    "credit_report_df.head()"
   ],
   "metadata": {
    "collapsed": false,
    "ExecuteTime": {
     "end_time": "2023-10-27T13:29:01.978751Z",
     "start_time": "2023-10-27T13:29:01.964156Z"
    }
   },
   "id": "b311dc4858593435"
  },
  {
   "cell_type": "code",
   "execution_count": 23,
   "outputs": [
    {
     "data": {
      "text/plain": "    customer_id  loan_id ACC_CREATION_DATETIME APPLICATION_DATETIME  \\\n13         1881       14   2021-10-01 23:29:27  2022-05-05 07:00:00   \n\n   LOAN_ORIGINATION_DATETIME  max_days_late  target  \\\n13       2022-07-19 19:30:28             55       1   \n\n    account_to_application_days  n_sf_apps first_app_date last_app_date  \\\n13                          215        5.0     2022-02-13    2022-03-03   \n\n    n_bnpl_apps  n_bnpl_approved_apps     first_bnpl_app_date  \\\n13          2.0                   0.0 2022-03-25 05:17:17.377   \n\n        last_bnpl_app_date  n_inquiries_l3m  n_inquiries_l6m  \n13 2022-03-04 02:06:40.177              0.0              0.0  ",
      "text/html": "<div>\n<style scoped>\n    .dataframe tbody tr th:only-of-type {\n        vertical-align: middle;\n    }\n\n    .dataframe tbody tr th {\n        vertical-align: top;\n    }\n\n    .dataframe thead th {\n        text-align: right;\n    }\n</style>\n<table border=\"1\" class=\"dataframe\">\n  <thead>\n    <tr style=\"text-align: right;\">\n      <th></th>\n      <th>customer_id</th>\n      <th>loan_id</th>\n      <th>ACC_CREATION_DATETIME</th>\n      <th>APPLICATION_DATETIME</th>\n      <th>LOAN_ORIGINATION_DATETIME</th>\n      <th>max_days_late</th>\n      <th>target</th>\n      <th>account_to_application_days</th>\n      <th>n_sf_apps</th>\n      <th>first_app_date</th>\n      <th>last_app_date</th>\n      <th>n_bnpl_apps</th>\n      <th>n_bnpl_approved_apps</th>\n      <th>first_bnpl_app_date</th>\n      <th>last_bnpl_app_date</th>\n      <th>n_inquiries_l3m</th>\n      <th>n_inquiries_l6m</th>\n    </tr>\n  </thead>\n  <tbody>\n    <tr>\n      <th>13</th>\n      <td>1881</td>\n      <td>14</td>\n      <td>2021-10-01 23:29:27</td>\n      <td>2022-05-05 07:00:00</td>\n      <td>2022-07-19 19:30:28</td>\n      <td>55</td>\n      <td>1</td>\n      <td>215</td>\n      <td>5.0</td>\n      <td>2022-02-13</td>\n      <td>2022-03-03</td>\n      <td>2.0</td>\n      <td>0.0</td>\n      <td>2022-03-25 05:17:17.377</td>\n      <td>2022-03-04 02:06:40.177</td>\n      <td>0.0</td>\n      <td>0.0</td>\n    </tr>\n  </tbody>\n</table>\n</div>"
     },
     "execution_count": 23,
     "metadata": {},
     "output_type": "execute_result"
    }
   ],
   "source": [
    "customer_loan_df[customer_loan_df[\"customer_id\"]==1881]"
   ],
   "metadata": {
    "collapsed": false,
    "ExecuteTime": {
     "end_time": "2023-10-27T13:31:31.143221Z",
     "start_time": "2023-10-27T13:31:31.139966Z"
    }
   },
   "id": "a3fa9bd04e45c1ed"
  },
  {
   "cell_type": "code",
   "execution_count": 24,
   "outputs": [
    {
     "data": {
      "text/plain": "      customer_id                     INQUIRY_TIME  \\\n6796         1881 2021-10-02 20:13:53.462000+00:00   \n6797         1881 2021-10-02 20:13:53.462000+00:00   \n6798         1881 2021-10-02 20:13:53.462000+00:00   \n6799         1881 2021-10-02 20:13:53.462000+00:00   \n6800         1881 2021-10-02 20:13:53.462000+00:00   \n6801         1881 2021-10-02 20:13:53.462000+00:00   \n6802         1881 2021-10-02 20:13:53.462000+00:00   \n6803         1881 2021-10-02 20:13:53.462000+00:00   \n6804         1881 2021-10-02 20:13:53.462000+00:00   \n6805         1881 2021-10-02 20:13:53.462000+00:00   \n6806         1881 2021-10-02 20:13:53.462000+00:00   \n6807         1881 2021-10-02 20:13:53.462000+00:00   \n6808         1881 2021-10-02 20:13:53.462000+00:00   \n6809         1881 2021-10-02 20:13:53.462000+00:00   \n6810         1881 2021-10-02 20:13:53.462000+00:00   \n6811         1881 2021-10-02 20:13:53.462000+00:00   \n6812         1881 2021-10-02 20:13:53.462000+00:00   \n6813         1881 2021-10-02 20:13:53.462000+00:00   \n6814         1881 2021-10-02 20:13:53.462000+00:00   \n6815         1881 2021-10-02 20:13:53.462000+00:00   \n6816         1881 2021-10-02 20:13:53.462000+00:00   \n6817         1881 2021-10-02 20:13:53.462000+00:00   \n6818         1881 2021-10-02 20:13:53.462000+00:00   \n6819         1881 2021-10-02 20:13:53.462000+00:00   \n\n                                   CDC_INQUIRY_ID INQUIRY_DATE  \\\n6796  333627-ce4a0d8b-b5a0-4a58-a5b3-9f5153828cf5   2021-10-02   \n6797  333627-ce4a0d8b-b5a0-4a58-a5b3-9f5153828cf5   2021-10-02   \n6798  333627-ce4a0d8b-b5a0-4a58-a5b3-9f5153828cf5   2021-10-02   \n6799  333627-ce4a0d8b-b5a0-4a58-a5b3-9f5153828cf5   2021-10-02   \n6800  333627-ce4a0d8b-b5a0-4a58-a5b3-9f5153828cf5   2021-10-02   \n6801  333627-ce4a0d8b-b5a0-4a58-a5b3-9f5153828cf5   2021-10-02   \n6802  333627-ce4a0d8b-b5a0-4a58-a5b3-9f5153828cf5   2021-10-02   \n6803  333627-ce4a0d8b-b5a0-4a58-a5b3-9f5153828cf5   2021-10-02   \n6804  333627-ce4a0d8b-b5a0-4a58-a5b3-9f5153828cf5   2021-10-02   \n6805  333627-ce4a0d8b-b5a0-4a58-a5b3-9f5153828cf5   2021-10-02   \n6806  333627-ce4a0d8b-b5a0-4a58-a5b3-9f5153828cf5   2021-10-02   \n6807  333627-ce4a0d8b-b5a0-4a58-a5b3-9f5153828cf5   2021-10-02   \n6808  333627-ce4a0d8b-b5a0-4a58-a5b3-9f5153828cf5   2021-10-02   \n6809  333627-ce4a0d8b-b5a0-4a58-a5b3-9f5153828cf5   2021-10-02   \n6810  333627-ce4a0d8b-b5a0-4a58-a5b3-9f5153828cf5   2021-10-02   \n6811  333627-ce4a0d8b-b5a0-4a58-a5b3-9f5153828cf5   2021-10-02   \n6812  333627-ce4a0d8b-b5a0-4a58-a5b3-9f5153828cf5   2021-10-02   \n6813  333627-ce4a0d8b-b5a0-4a58-a5b3-9f5153828cf5   2021-10-02   \n6814  333627-ce4a0d8b-b5a0-4a58-a5b3-9f5153828cf5   2021-10-02   \n6815  333627-ce4a0d8b-b5a0-4a58-a5b3-9f5153828cf5   2021-10-02   \n6816  333627-ce4a0d8b-b5a0-4a58-a5b3-9f5153828cf5   2021-10-02   \n6817  333627-ce4a0d8b-b5a0-4a58-a5b3-9f5153828cf5   2021-10-02   \n6818  333627-ce4a0d8b-b5a0-4a58-a5b3-9f5153828cf5   2021-10-02   \n6819  333627-ce4a0d8b-b5a0-4a58-a5b3-9f5153828cf5   2021-10-02   \n\n                                         PREVENTION_KEY         CURRENCY  \\\n6796  CUENTA QUE NO ESTA AL CORRIENTE VENDIDA O CEDI...  PESOS MEXICANOS   \n6797                                    SIN OBSERVACION  PESOS MEXICANOS   \n6798                                    SIN OBSERVACION  PESOS MEXICANOS   \n6799                                    SIN OBSERVACION  PESOS MEXICANOS   \n6800                         CUENTA CANCELADA O CERRADA  PESOS MEXICANOS   \n6801                                    SIN OBSERVACION  PESOS MEXICANOS   \n6802                                 CUENTA EN COBRANZA  PESOS MEXICANOS   \n6803                                    SIN OBSERVACION  PESOS MEXICANOS   \n6804                                    SIN OBSERVACION  PESOS MEXICANOS   \n6805                                    SIN OBSERVACION  PESOS MEXICANOS   \n6806                         CUENTA QUE CAUSA QUEBRANTO  PESOS MEXICANOS   \n6807                         CUENTA QUE CAUSA QUEBRANTO  PESOS MEXICANOS   \n6808                         CUENTA QUE CAUSA QUEBRANTO  PESOS MEXICANOS   \n6809                                    SIN OBSERVACION  PESOS MEXICANOS   \n6810                                    SIN OBSERVACION  PESOS MEXICANOS   \n6811                                    SIN OBSERVACION  PESOS MEXICANOS   \n6812                                    SIN OBSERVACION  PESOS MEXICANOS   \n6813                                    SIN OBSERVACION  PESOS MEXICANOS   \n6814                                    SIN OBSERVACION  PESOS MEXICANOS   \n6815                                    SIN OBSERVACION  PESOS MEXICANOS   \n6816                                    SIN OBSERVACION  PESOS MEXICANOS   \n6817                                    SIN OBSERVACION  PESOS MEXICANOS   \n6818                                    SIN OBSERVACION  PESOS MEXICANOS   \n6819                                    CUENTA INACTIVA  PESOS MEXICANOS   \n\n      MAX_CREDIT  CREDIT_LIMIT  PAYMENT_AMOUNT UPDATE_DATE  ...  \\\n6796      7428.0        9500.0             0.0  2018-09-08  ...   \n6797      3000.0        3000.0          3556.0  2020-10-31  ...   \n6798      5659.0           0.0             0.0  2021-02-20  ...   \n6799      3386.0           0.0             0.0  2021-05-07  ...   \n6800      1500.0        1500.0             0.0  2021-07-31  ...   \n6801      1500.0        1500.0          5382.0  2021-08-30  ...   \n6802     13034.0       13034.0         13034.0  2021-08-31  ...   \n6803     13253.0       16800.0         13253.0  2021-08-31  ...   \n6804      6818.0       16800.0          6818.0  2021-08-31  ...   \n6805        83.0       16800.0            83.0  2021-08-31  ...   \n6806      6348.0           1.0          6348.0  2021-09-10  ...   \n6807      4785.0       20000.0          4785.0  2021-09-10  ...   \n6808     11286.0       20000.0         11286.0  2021-09-10  ...   \n6809      1200.0           NaN          2408.0  2021-09-09  ...   \n6810      2177.0           NaN          4585.0  2021-09-09  ...   \n6811       698.0           NaN          1129.0  2021-09-09  ...   \n6812     10220.0       10220.0         10220.0  2021-09-03  ...   \n6813      4878.0           0.0           271.0  2021-09-09  ...   \n6814       499.0         500.0             0.0  2021-09-13  ...   \n6815      7189.0           0.0           599.0  2021-09-09  ...   \n6816     11888.0           0.0           360.0  2021-09-09  ...   \n6817      6747.0        6747.0           519.0  2021-09-12  ...   \n6818      5648.0           0.0           965.0  2021-09-23  ...   \n6819         0.0           0.0             0.0  2021-09-27  ...   \n\n                   ACCOUNT_TYPE   RESPONSABILITY_TYPE TOTAL_PAYMENTS  \\\n6796                PAGOS FIJOS  INDIVIDUAL (TITULAR)            NaN   \n6797                PAGOS FIJOS  INDIVIDUAL (TITULAR)            1.0   \n6798                PAGOS FIJOS  INDIVIDUAL (TITULAR)            4.0   \n6799                PAGOS FIJOS  INDIVIDUAL (TITULAR)            6.0   \n6800                PAGOS FIJOS  INDIVIDUAL (TITULAR)            1.0   \n6801                PAGOS FIJOS  INDIVIDUAL (TITULAR)            1.0   \n6802                PAGOS FIJOS  INDIVIDUAL (TITULAR)            1.0   \n6803                PAGOS FIJOS  INDIVIDUAL (TITULAR)           12.0   \n6804                PAGOS FIJOS  INDIVIDUAL (TITULAR)           12.0   \n6805                 REVOLVENTE  INDIVIDUAL (TITULAR)            0.0   \n6806  SIN LIMITE PREESTABLECIDO  INDIVIDUAL (TITULAR)            NaN   \n6807  SIN LIMITE PREESTABLECIDO  INDIVIDUAL (TITULAR)            NaN   \n6808  SIN LIMITE PREESTABLECIDO  INDIVIDUAL (TITULAR)            NaN   \n6809  SIN LIMITE PREESTABLECIDO  INDIVIDUAL (TITULAR)            NaN   \n6810  SIN LIMITE PREESTABLECIDO  INDIVIDUAL (TITULAR)            NaN   \n6811  SIN LIMITE PREESTABLECIDO  INDIVIDUAL (TITULAR)            NaN   \n6812                PAGOS FIJOS  INDIVIDUAL (TITULAR)            1.0   \n6813                PAGOS FIJOS  INDIVIDUAL (TITULAR)           18.0   \n6814                 REVOLVENTE  INDIVIDUAL (TITULAR)            NaN   \n6815                PAGOS FIJOS  INDIVIDUAL (TITULAR)           12.0   \n6816                PAGOS FIJOS  INDIVIDUAL (TITULAR)           33.0   \n6817                PAGOS FIJOS  INDIVIDUAL (TITULAR)           13.0   \n6818                PAGOS FIJOS  INDIVIDUAL (TITULAR)           16.0   \n6819  SIN LIMITE PREESTABLECIDO  INDIVIDUAL (TITULAR)            0.0   \n\n     DELAYED_PAYMENTS CURRENT_PAYMENT WORST_DELAY TOTAL_REPORTED_PAYMENTS  \\\n6796                9              06         6.0                    None   \n6797                0               V         0.0                       0   \n6798                0               V         0.0                    None   \n6799                3               V         1.0                    None   \n6800               16               V        23.0                       0   \n6801                2              36        36.0                       0   \n6802                7              07         7.0                       0   \n6803                2              13        13.0                       0   \n6804                2              13        13.0                       0   \n6805                2              13        13.0                       0   \n6806               11              13        13.0                    None   \n6807               11              13        13.0                    None   \n6808               10              13        13.0                    None   \n6809               13              13        13.0                    None   \n6810               13              13        13.0                    None   \n6811               13              13        13.0                    None   \n6812               24              13        13.0                    None   \n6813                0               V         0.0                    None   \n6814                0               V         0.0                    None   \n6815                0               V         0.0                    None   \n6816                3               V         1.0                    None   \n6817                0               V         0.0                       0   \n6818                0               V         0.0                       0   \n6819                0               V        33.0                       0   \n\n     CURRENT_BALANCE BALANCE_DUE BALANCE_DUE_WORST_DELAY  \n6796             0.0     14441.0                     0.0  \n6797          3556.0         0.0                     0.0  \n6798             0.0         0.0                     0.0  \n6799             0.0         0.0                     0.0  \n6800             0.0         0.0                  3941.0  \n6801          5382.0      5382.0                  5382.0  \n6802         13034.0     13034.0                 13034.0  \n6803         13253.0     13253.0                 13253.0  \n6804          6818.0      6818.0                  6818.0  \n6805            83.0        83.0                    83.0  \n6806          6348.0      6348.0                     0.0  \n6807          4785.0      4785.0                     0.0  \n6808         11286.0     11286.0                     0.0  \n6809          2408.0      2408.0                     0.0  \n6810          4585.0      4585.0                     0.0  \n6811          1129.0      1129.0                     0.0  \n6812         10220.0     10220.0                     0.0  \n6813          4345.0         0.0                     0.0  \n6814             0.0         0.0                     0.0  \n6815          4002.0         0.0                     0.0  \n6816          7682.0         0.0                     0.0  \n6817          6747.0         0.0                     0.0  \n6818           965.0         0.0                     0.0  \n6819             0.0         0.0                   165.0  \n\n[24 rows x 29 columns]",
      "text/html": "<div>\n<style scoped>\n    .dataframe tbody tr th:only-of-type {\n        vertical-align: middle;\n    }\n\n    .dataframe tbody tr th {\n        vertical-align: top;\n    }\n\n    .dataframe thead th {\n        text-align: right;\n    }\n</style>\n<table border=\"1\" class=\"dataframe\">\n  <thead>\n    <tr style=\"text-align: right;\">\n      <th></th>\n      <th>customer_id</th>\n      <th>INQUIRY_TIME</th>\n      <th>CDC_INQUIRY_ID</th>\n      <th>INQUIRY_DATE</th>\n      <th>PREVENTION_KEY</th>\n      <th>CURRENCY</th>\n      <th>MAX_CREDIT</th>\n      <th>CREDIT_LIMIT</th>\n      <th>PAYMENT_AMOUNT</th>\n      <th>UPDATE_DATE</th>\n      <th>...</th>\n      <th>ACCOUNT_TYPE</th>\n      <th>RESPONSABILITY_TYPE</th>\n      <th>TOTAL_PAYMENTS</th>\n      <th>DELAYED_PAYMENTS</th>\n      <th>CURRENT_PAYMENT</th>\n      <th>WORST_DELAY</th>\n      <th>TOTAL_REPORTED_PAYMENTS</th>\n      <th>CURRENT_BALANCE</th>\n      <th>BALANCE_DUE</th>\n      <th>BALANCE_DUE_WORST_DELAY</th>\n    </tr>\n  </thead>\n  <tbody>\n    <tr>\n      <th>6796</th>\n      <td>1881</td>\n      <td>2021-10-02 20:13:53.462000+00:00</td>\n      <td>333627-ce4a0d8b-b5a0-4a58-a5b3-9f5153828cf5</td>\n      <td>2021-10-02</td>\n      <td>CUENTA QUE NO ESTA AL CORRIENTE VENDIDA O CEDI...</td>\n      <td>PESOS MEXICANOS</td>\n      <td>7428.0</td>\n      <td>9500.0</td>\n      <td>0.0</td>\n      <td>2018-09-08</td>\n      <td>...</td>\n      <td>PAGOS FIJOS</td>\n      <td>INDIVIDUAL (TITULAR)</td>\n      <td>NaN</td>\n      <td>9</td>\n      <td>06</td>\n      <td>6.0</td>\n      <td>None</td>\n      <td>0.0</td>\n      <td>14441.0</td>\n      <td>0.0</td>\n    </tr>\n    <tr>\n      <th>6797</th>\n      <td>1881</td>\n      <td>2021-10-02 20:13:53.462000+00:00</td>\n      <td>333627-ce4a0d8b-b5a0-4a58-a5b3-9f5153828cf5</td>\n      <td>2021-10-02</td>\n      <td>SIN OBSERVACION</td>\n      <td>PESOS MEXICANOS</td>\n      <td>3000.0</td>\n      <td>3000.0</td>\n      <td>3556.0</td>\n      <td>2020-10-31</td>\n      <td>...</td>\n      <td>PAGOS FIJOS</td>\n      <td>INDIVIDUAL (TITULAR)</td>\n      <td>1.0</td>\n      <td>0</td>\n      <td>V</td>\n      <td>0.0</td>\n      <td>0</td>\n      <td>3556.0</td>\n      <td>0.0</td>\n      <td>0.0</td>\n    </tr>\n    <tr>\n      <th>6798</th>\n      <td>1881</td>\n      <td>2021-10-02 20:13:53.462000+00:00</td>\n      <td>333627-ce4a0d8b-b5a0-4a58-a5b3-9f5153828cf5</td>\n      <td>2021-10-02</td>\n      <td>SIN OBSERVACION</td>\n      <td>PESOS MEXICANOS</td>\n      <td>5659.0</td>\n      <td>0.0</td>\n      <td>0.0</td>\n      <td>2021-02-20</td>\n      <td>...</td>\n      <td>PAGOS FIJOS</td>\n      <td>INDIVIDUAL (TITULAR)</td>\n      <td>4.0</td>\n      <td>0</td>\n      <td>V</td>\n      <td>0.0</td>\n      <td>None</td>\n      <td>0.0</td>\n      <td>0.0</td>\n      <td>0.0</td>\n    </tr>\n    <tr>\n      <th>6799</th>\n      <td>1881</td>\n      <td>2021-10-02 20:13:53.462000+00:00</td>\n      <td>333627-ce4a0d8b-b5a0-4a58-a5b3-9f5153828cf5</td>\n      <td>2021-10-02</td>\n      <td>SIN OBSERVACION</td>\n      <td>PESOS MEXICANOS</td>\n      <td>3386.0</td>\n      <td>0.0</td>\n      <td>0.0</td>\n      <td>2021-05-07</td>\n      <td>...</td>\n      <td>PAGOS FIJOS</td>\n      <td>INDIVIDUAL (TITULAR)</td>\n      <td>6.0</td>\n      <td>3</td>\n      <td>V</td>\n      <td>1.0</td>\n      <td>None</td>\n      <td>0.0</td>\n      <td>0.0</td>\n      <td>0.0</td>\n    </tr>\n    <tr>\n      <th>6800</th>\n      <td>1881</td>\n      <td>2021-10-02 20:13:53.462000+00:00</td>\n      <td>333627-ce4a0d8b-b5a0-4a58-a5b3-9f5153828cf5</td>\n      <td>2021-10-02</td>\n      <td>CUENTA CANCELADA O CERRADA</td>\n      <td>PESOS MEXICANOS</td>\n      <td>1500.0</td>\n      <td>1500.0</td>\n      <td>0.0</td>\n      <td>2021-07-31</td>\n      <td>...</td>\n      <td>PAGOS FIJOS</td>\n      <td>INDIVIDUAL (TITULAR)</td>\n      <td>1.0</td>\n      <td>16</td>\n      <td>V</td>\n      <td>23.0</td>\n      <td>0</td>\n      <td>0.0</td>\n      <td>0.0</td>\n      <td>3941.0</td>\n    </tr>\n    <tr>\n      <th>6801</th>\n      <td>1881</td>\n      <td>2021-10-02 20:13:53.462000+00:00</td>\n      <td>333627-ce4a0d8b-b5a0-4a58-a5b3-9f5153828cf5</td>\n      <td>2021-10-02</td>\n      <td>SIN OBSERVACION</td>\n      <td>PESOS MEXICANOS</td>\n      <td>1500.0</td>\n      <td>1500.0</td>\n      <td>5382.0</td>\n      <td>2021-08-30</td>\n      <td>...</td>\n      <td>PAGOS FIJOS</td>\n      <td>INDIVIDUAL (TITULAR)</td>\n      <td>1.0</td>\n      <td>2</td>\n      <td>36</td>\n      <td>36.0</td>\n      <td>0</td>\n      <td>5382.0</td>\n      <td>5382.0</td>\n      <td>5382.0</td>\n    </tr>\n    <tr>\n      <th>6802</th>\n      <td>1881</td>\n      <td>2021-10-02 20:13:53.462000+00:00</td>\n      <td>333627-ce4a0d8b-b5a0-4a58-a5b3-9f5153828cf5</td>\n      <td>2021-10-02</td>\n      <td>CUENTA EN COBRANZA</td>\n      <td>PESOS MEXICANOS</td>\n      <td>13034.0</td>\n      <td>13034.0</td>\n      <td>13034.0</td>\n      <td>2021-08-31</td>\n      <td>...</td>\n      <td>PAGOS FIJOS</td>\n      <td>INDIVIDUAL (TITULAR)</td>\n      <td>1.0</td>\n      <td>7</td>\n      <td>07</td>\n      <td>7.0</td>\n      <td>0</td>\n      <td>13034.0</td>\n      <td>13034.0</td>\n      <td>13034.0</td>\n    </tr>\n    <tr>\n      <th>6803</th>\n      <td>1881</td>\n      <td>2021-10-02 20:13:53.462000+00:00</td>\n      <td>333627-ce4a0d8b-b5a0-4a58-a5b3-9f5153828cf5</td>\n      <td>2021-10-02</td>\n      <td>SIN OBSERVACION</td>\n      <td>PESOS MEXICANOS</td>\n      <td>13253.0</td>\n      <td>16800.0</td>\n      <td>13253.0</td>\n      <td>2021-08-31</td>\n      <td>...</td>\n      <td>PAGOS FIJOS</td>\n      <td>INDIVIDUAL (TITULAR)</td>\n      <td>12.0</td>\n      <td>2</td>\n      <td>13</td>\n      <td>13.0</td>\n      <td>0</td>\n      <td>13253.0</td>\n      <td>13253.0</td>\n      <td>13253.0</td>\n    </tr>\n    <tr>\n      <th>6804</th>\n      <td>1881</td>\n      <td>2021-10-02 20:13:53.462000+00:00</td>\n      <td>333627-ce4a0d8b-b5a0-4a58-a5b3-9f5153828cf5</td>\n      <td>2021-10-02</td>\n      <td>SIN OBSERVACION</td>\n      <td>PESOS MEXICANOS</td>\n      <td>6818.0</td>\n      <td>16800.0</td>\n      <td>6818.0</td>\n      <td>2021-08-31</td>\n      <td>...</td>\n      <td>PAGOS FIJOS</td>\n      <td>INDIVIDUAL (TITULAR)</td>\n      <td>12.0</td>\n      <td>2</td>\n      <td>13</td>\n      <td>13.0</td>\n      <td>0</td>\n      <td>6818.0</td>\n      <td>6818.0</td>\n      <td>6818.0</td>\n    </tr>\n    <tr>\n      <th>6805</th>\n      <td>1881</td>\n      <td>2021-10-02 20:13:53.462000+00:00</td>\n      <td>333627-ce4a0d8b-b5a0-4a58-a5b3-9f5153828cf5</td>\n      <td>2021-10-02</td>\n      <td>SIN OBSERVACION</td>\n      <td>PESOS MEXICANOS</td>\n      <td>83.0</td>\n      <td>16800.0</td>\n      <td>83.0</td>\n      <td>2021-08-31</td>\n      <td>...</td>\n      <td>REVOLVENTE</td>\n      <td>INDIVIDUAL (TITULAR)</td>\n      <td>0.0</td>\n      <td>2</td>\n      <td>13</td>\n      <td>13.0</td>\n      <td>0</td>\n      <td>83.0</td>\n      <td>83.0</td>\n      <td>83.0</td>\n    </tr>\n    <tr>\n      <th>6806</th>\n      <td>1881</td>\n      <td>2021-10-02 20:13:53.462000+00:00</td>\n      <td>333627-ce4a0d8b-b5a0-4a58-a5b3-9f5153828cf5</td>\n      <td>2021-10-02</td>\n      <td>CUENTA QUE CAUSA QUEBRANTO</td>\n      <td>PESOS MEXICANOS</td>\n      <td>6348.0</td>\n      <td>1.0</td>\n      <td>6348.0</td>\n      <td>2021-09-10</td>\n      <td>...</td>\n      <td>SIN LIMITE PREESTABLECIDO</td>\n      <td>INDIVIDUAL (TITULAR)</td>\n      <td>NaN</td>\n      <td>11</td>\n      <td>13</td>\n      <td>13.0</td>\n      <td>None</td>\n      <td>6348.0</td>\n      <td>6348.0</td>\n      <td>0.0</td>\n    </tr>\n    <tr>\n      <th>6807</th>\n      <td>1881</td>\n      <td>2021-10-02 20:13:53.462000+00:00</td>\n      <td>333627-ce4a0d8b-b5a0-4a58-a5b3-9f5153828cf5</td>\n      <td>2021-10-02</td>\n      <td>CUENTA QUE CAUSA QUEBRANTO</td>\n      <td>PESOS MEXICANOS</td>\n      <td>4785.0</td>\n      <td>20000.0</td>\n      <td>4785.0</td>\n      <td>2021-09-10</td>\n      <td>...</td>\n      <td>SIN LIMITE PREESTABLECIDO</td>\n      <td>INDIVIDUAL (TITULAR)</td>\n      <td>NaN</td>\n      <td>11</td>\n      <td>13</td>\n      <td>13.0</td>\n      <td>None</td>\n      <td>4785.0</td>\n      <td>4785.0</td>\n      <td>0.0</td>\n    </tr>\n    <tr>\n      <th>6808</th>\n      <td>1881</td>\n      <td>2021-10-02 20:13:53.462000+00:00</td>\n      <td>333627-ce4a0d8b-b5a0-4a58-a5b3-9f5153828cf5</td>\n      <td>2021-10-02</td>\n      <td>CUENTA QUE CAUSA QUEBRANTO</td>\n      <td>PESOS MEXICANOS</td>\n      <td>11286.0</td>\n      <td>20000.0</td>\n      <td>11286.0</td>\n      <td>2021-09-10</td>\n      <td>...</td>\n      <td>SIN LIMITE PREESTABLECIDO</td>\n      <td>INDIVIDUAL (TITULAR)</td>\n      <td>NaN</td>\n      <td>10</td>\n      <td>13</td>\n      <td>13.0</td>\n      <td>None</td>\n      <td>11286.0</td>\n      <td>11286.0</td>\n      <td>0.0</td>\n    </tr>\n    <tr>\n      <th>6809</th>\n      <td>1881</td>\n      <td>2021-10-02 20:13:53.462000+00:00</td>\n      <td>333627-ce4a0d8b-b5a0-4a58-a5b3-9f5153828cf5</td>\n      <td>2021-10-02</td>\n      <td>SIN OBSERVACION</td>\n      <td>PESOS MEXICANOS</td>\n      <td>1200.0</td>\n      <td>NaN</td>\n      <td>2408.0</td>\n      <td>2021-09-09</td>\n      <td>...</td>\n      <td>SIN LIMITE PREESTABLECIDO</td>\n      <td>INDIVIDUAL (TITULAR)</td>\n      <td>NaN</td>\n      <td>13</td>\n      <td>13</td>\n      <td>13.0</td>\n      <td>None</td>\n      <td>2408.0</td>\n      <td>2408.0</td>\n      <td>0.0</td>\n    </tr>\n    <tr>\n      <th>6810</th>\n      <td>1881</td>\n      <td>2021-10-02 20:13:53.462000+00:00</td>\n      <td>333627-ce4a0d8b-b5a0-4a58-a5b3-9f5153828cf5</td>\n      <td>2021-10-02</td>\n      <td>SIN OBSERVACION</td>\n      <td>PESOS MEXICANOS</td>\n      <td>2177.0</td>\n      <td>NaN</td>\n      <td>4585.0</td>\n      <td>2021-09-09</td>\n      <td>...</td>\n      <td>SIN LIMITE PREESTABLECIDO</td>\n      <td>INDIVIDUAL (TITULAR)</td>\n      <td>NaN</td>\n      <td>13</td>\n      <td>13</td>\n      <td>13.0</td>\n      <td>None</td>\n      <td>4585.0</td>\n      <td>4585.0</td>\n      <td>0.0</td>\n    </tr>\n    <tr>\n      <th>6811</th>\n      <td>1881</td>\n      <td>2021-10-02 20:13:53.462000+00:00</td>\n      <td>333627-ce4a0d8b-b5a0-4a58-a5b3-9f5153828cf5</td>\n      <td>2021-10-02</td>\n      <td>SIN OBSERVACION</td>\n      <td>PESOS MEXICANOS</td>\n      <td>698.0</td>\n      <td>NaN</td>\n      <td>1129.0</td>\n      <td>2021-09-09</td>\n      <td>...</td>\n      <td>SIN LIMITE PREESTABLECIDO</td>\n      <td>INDIVIDUAL (TITULAR)</td>\n      <td>NaN</td>\n      <td>13</td>\n      <td>13</td>\n      <td>13.0</td>\n      <td>None</td>\n      <td>1129.0</td>\n      <td>1129.0</td>\n      <td>0.0</td>\n    </tr>\n    <tr>\n      <th>6812</th>\n      <td>1881</td>\n      <td>2021-10-02 20:13:53.462000+00:00</td>\n      <td>333627-ce4a0d8b-b5a0-4a58-a5b3-9f5153828cf5</td>\n      <td>2021-10-02</td>\n      <td>SIN OBSERVACION</td>\n      <td>PESOS MEXICANOS</td>\n      <td>10220.0</td>\n      <td>10220.0</td>\n      <td>10220.0</td>\n      <td>2021-09-03</td>\n      <td>...</td>\n      <td>PAGOS FIJOS</td>\n      <td>INDIVIDUAL (TITULAR)</td>\n      <td>1.0</td>\n      <td>24</td>\n      <td>13</td>\n      <td>13.0</td>\n      <td>None</td>\n      <td>10220.0</td>\n      <td>10220.0</td>\n      <td>0.0</td>\n    </tr>\n    <tr>\n      <th>6813</th>\n      <td>1881</td>\n      <td>2021-10-02 20:13:53.462000+00:00</td>\n      <td>333627-ce4a0d8b-b5a0-4a58-a5b3-9f5153828cf5</td>\n      <td>2021-10-02</td>\n      <td>SIN OBSERVACION</td>\n      <td>PESOS MEXICANOS</td>\n      <td>4878.0</td>\n      <td>0.0</td>\n      <td>271.0</td>\n      <td>2021-09-09</td>\n      <td>...</td>\n      <td>PAGOS FIJOS</td>\n      <td>INDIVIDUAL (TITULAR)</td>\n      <td>18.0</td>\n      <td>0</td>\n      <td>V</td>\n      <td>0.0</td>\n      <td>None</td>\n      <td>4345.0</td>\n      <td>0.0</td>\n      <td>0.0</td>\n    </tr>\n    <tr>\n      <th>6814</th>\n      <td>1881</td>\n      <td>2021-10-02 20:13:53.462000+00:00</td>\n      <td>333627-ce4a0d8b-b5a0-4a58-a5b3-9f5153828cf5</td>\n      <td>2021-10-02</td>\n      <td>SIN OBSERVACION</td>\n      <td>PESOS MEXICANOS</td>\n      <td>499.0</td>\n      <td>500.0</td>\n      <td>0.0</td>\n      <td>2021-09-13</td>\n      <td>...</td>\n      <td>REVOLVENTE</td>\n      <td>INDIVIDUAL (TITULAR)</td>\n      <td>NaN</td>\n      <td>0</td>\n      <td>V</td>\n      <td>0.0</td>\n      <td>None</td>\n      <td>0.0</td>\n      <td>0.0</td>\n      <td>0.0</td>\n    </tr>\n    <tr>\n      <th>6815</th>\n      <td>1881</td>\n      <td>2021-10-02 20:13:53.462000+00:00</td>\n      <td>333627-ce4a0d8b-b5a0-4a58-a5b3-9f5153828cf5</td>\n      <td>2021-10-02</td>\n      <td>SIN OBSERVACION</td>\n      <td>PESOS MEXICANOS</td>\n      <td>7189.0</td>\n      <td>0.0</td>\n      <td>599.0</td>\n      <td>2021-09-09</td>\n      <td>...</td>\n      <td>PAGOS FIJOS</td>\n      <td>INDIVIDUAL (TITULAR)</td>\n      <td>12.0</td>\n      <td>0</td>\n      <td>V</td>\n      <td>0.0</td>\n      <td>None</td>\n      <td>4002.0</td>\n      <td>0.0</td>\n      <td>0.0</td>\n    </tr>\n    <tr>\n      <th>6816</th>\n      <td>1881</td>\n      <td>2021-10-02 20:13:53.462000+00:00</td>\n      <td>333627-ce4a0d8b-b5a0-4a58-a5b3-9f5153828cf5</td>\n      <td>2021-10-02</td>\n      <td>SIN OBSERVACION</td>\n      <td>PESOS MEXICANOS</td>\n      <td>11888.0</td>\n      <td>0.0</td>\n      <td>360.0</td>\n      <td>2021-09-09</td>\n      <td>...</td>\n      <td>PAGOS FIJOS</td>\n      <td>INDIVIDUAL (TITULAR)</td>\n      <td>33.0</td>\n      <td>3</td>\n      <td>V</td>\n      <td>1.0</td>\n      <td>None</td>\n      <td>7682.0</td>\n      <td>0.0</td>\n      <td>0.0</td>\n    </tr>\n    <tr>\n      <th>6817</th>\n      <td>1881</td>\n      <td>2021-10-02 20:13:53.462000+00:00</td>\n      <td>333627-ce4a0d8b-b5a0-4a58-a5b3-9f5153828cf5</td>\n      <td>2021-10-02</td>\n      <td>SIN OBSERVACION</td>\n      <td>PESOS MEXICANOS</td>\n      <td>6747.0</td>\n      <td>6747.0</td>\n      <td>519.0</td>\n      <td>2021-09-12</td>\n      <td>...</td>\n      <td>PAGOS FIJOS</td>\n      <td>INDIVIDUAL (TITULAR)</td>\n      <td>13.0</td>\n      <td>0</td>\n      <td>V</td>\n      <td>0.0</td>\n      <td>0</td>\n      <td>6747.0</td>\n      <td>0.0</td>\n      <td>0.0</td>\n    </tr>\n    <tr>\n      <th>6818</th>\n      <td>1881</td>\n      <td>2021-10-02 20:13:53.462000+00:00</td>\n      <td>333627-ce4a0d8b-b5a0-4a58-a5b3-9f5153828cf5</td>\n      <td>2021-10-02</td>\n      <td>SIN OBSERVACION</td>\n      <td>PESOS MEXICANOS</td>\n      <td>5648.0</td>\n      <td>0.0</td>\n      <td>965.0</td>\n      <td>2021-09-23</td>\n      <td>...</td>\n      <td>PAGOS FIJOS</td>\n      <td>INDIVIDUAL (TITULAR)</td>\n      <td>16.0</td>\n      <td>0</td>\n      <td>V</td>\n      <td>0.0</td>\n      <td>0</td>\n      <td>965.0</td>\n      <td>0.0</td>\n      <td>0.0</td>\n    </tr>\n    <tr>\n      <th>6819</th>\n      <td>1881</td>\n      <td>2021-10-02 20:13:53.462000+00:00</td>\n      <td>333627-ce4a0d8b-b5a0-4a58-a5b3-9f5153828cf5</td>\n      <td>2021-10-02</td>\n      <td>CUENTA INACTIVA</td>\n      <td>PESOS MEXICANOS</td>\n      <td>0.0</td>\n      <td>0.0</td>\n      <td>0.0</td>\n      <td>2021-09-27</td>\n      <td>...</td>\n      <td>SIN LIMITE PREESTABLECIDO</td>\n      <td>INDIVIDUAL (TITULAR)</td>\n      <td>0.0</td>\n      <td>0</td>\n      <td>V</td>\n      <td>33.0</td>\n      <td>0</td>\n      <td>0.0</td>\n      <td>0.0</td>\n      <td>165.0</td>\n    </tr>\n  </tbody>\n</table>\n<p>24 rows × 29 columns</p>\n</div>"
     },
     "execution_count": 24,
     "metadata": {},
     "output_type": "execute_result"
    }
   ],
   "source": [
    "credit_report_df[credit_report_df[\"customer_id\"]==1881]"
   ],
   "metadata": {
    "collapsed": false,
    "ExecuteTime": {
     "end_time": "2023-10-27T13:32:42.736586Z",
     "start_time": "2023-10-27T13:32:42.718737Z"
    }
   },
   "id": "95b73d51da9fc62d"
  },
  {
   "cell_type": "code",
   "execution_count": 25,
   "outputs": [
    {
     "data": {
      "text/plain": "array(['SIN OBSERVACION', 'CUENTA CANCELADA O CERRADA',\n       'CONVENIO DE FINIQUITO O PAGO MENOR',\n       'CUENTA REESTRUCTURADA SIN PAGO MENOR POR MODIFICACION DE LA SITUACION DEL CLIENTE',\n       'CUENTA EN COBRANZA', 'CUENTA QUE CAUSA QUEBRANTO',\n       'CUENTA QUE NO ESTA AL CORRIENTE VENDIDA O CEDIDA A UN NO USUARIO DE UNA SOCIEDAD',\n       'CUENTA QUE NO ESTA AL CORRIENTE VENDIDA O CEDIDA A UN USUARIO DE UNA SOCIEDAD',\n       'CUENTA INACTIVA',\n       'CUENTA CERRADA QUE ESTUVO EN COBRANZA Y FUE PAGADA SIN CAUSAR QUEBRANTO',\n       None,\n       'EJECUCION DE GARANTIA PRENDARIA O FIDUCIARIA EN PAGO POR CREDITO',\n       'PEGO MENOR POR PROGRAMA INSTITUCIONAL DE GOBIERNO',\n       'TARJETA DE CREDITO EXTRAVIADA O ROBADA',\n       'DEMANDA POR EL OTORGANTE', 'EN LOCALIZACION',\n       'CONVENIO Y DISMINUCION DE PAGO', 'PRORROGA POR PERDIDA DE EMPLEO',\n       'CARTERA AL CORRIENTE VENDIDA O CEDIDA A UN USUARIO DE UNA SOCIEDAD',\n       'DACION EN PAGO O RENTA', 'ADJUDICACION O APLICACION DE GARANTIA',\n       'CUENTA AL CORRIENTE VENDIDA O CEDIDA A UN NO USUARIO DE UNA SOCIEDAD',\n       'CUENTA REESTRUCTURADA SIN PAGO MENOR POR PROGRAMA INSTITUCIONAL DE GOBIERNO',\n       'ROBO DE IDENTIDAD',\n       'INTEGRANTE QUE FUE SUBSIDIADO PARA EVITAR MORA',\n       'PRORROGA POR SITUACION ESPECIAL', 'CUENTA O MONTO EN ACLARACION',\n       'INTEGRANTE CAUSANTE DE MORA',\n       'CUENTA REESTRUCTURADA POR PROCESO JUDICIAL',\n       'FRAUDE NO ATRIBUIBLE AL CONSUMIDOR',\n       'PRORROGA POR DESASTRE NATURAL', 'CUENTA FRAUDULENTA'],\n      dtype=object)"
     },
     "execution_count": 25,
     "metadata": {},
     "output_type": "execute_result"
    }
   ],
   "source": [
    "credit_report_df['PREVENTION_KEY'].unique()"
   ],
   "metadata": {
    "collapsed": false,
    "ExecuteTime": {
     "end_time": "2023-10-27T13:34:14.257789Z",
     "start_time": "2023-10-27T13:34:14.249232Z"
    }
   },
   "id": "b3960e0bcb7350c3"
  },
  {
   "cell_type": "code",
   "execution_count": 27,
   "outputs": [
    {
     "data": {
      "text/plain": "((287356, 29), (14454, 17))"
     },
     "execution_count": 27,
     "metadata": {},
     "output_type": "execute_result"
    }
   ],
   "source": [
    "credit_report_df.shape, customer_loan_df.shape"
   ],
   "metadata": {
    "collapsed": false,
    "ExecuteTime": {
     "end_time": "2023-10-27T14:05:32.453396Z",
     "start_time": "2023-10-27T14:05:32.443410Z"
    }
   },
   "id": "2d1dce48f19dad64"
  },
  {
   "cell_type": "code",
   "execution_count": 29,
   "outputs": [
    {
     "data": {
      "text/plain": "0        0.0\n1        NaN\n2        NaN\n3        0.0\n4        0.0\n        ... \n14449    NaN\n14450    NaN\n14451    NaN\n14452    0.0\n14453    0.0\nName: n_bnpl_approved_apps, Length: 14454, dtype: float64"
     },
     "execution_count": 29,
     "metadata": {},
     "output_type": "execute_result"
    }
   ],
   "source": [
    "customer_loan_df[\"n_bnpl_approved_apps\"]"
   ],
   "metadata": {
    "collapsed": false,
    "ExecuteTime": {
     "end_time": "2023-10-27T15:42:13.949102Z",
     "start_time": "2023-10-27T15:42:13.944381Z"
    }
   },
   "id": "f21da0b7716ec0c"
  },
  {
   "cell_type": "code",
   "execution_count": null,
   "outputs": [],
   "source": [],
   "metadata": {
    "collapsed": false
   },
   "id": "4d69a0f7def8f6f8"
  }
 ],
 "metadata": {
  "kernelspec": {
   "display_name": "Python 3 (ipykernel)",
   "language": "python",
   "name": "python3"
  },
  "language_info": {
   "codemirror_mode": {
    "name": "ipython",
    "version": 3
   },
   "file_extension": ".py",
   "mimetype": "text/x-python",
   "name": "python",
   "nbconvert_exporter": "python",
   "pygments_lexer": "ipython3",
   "version": "3.11.5"
  }
 },
 "nbformat": 4,
 "nbformat_minor": 5
}

{
 "cells": [
  {
   "cell_type": "markdown",
   "source": [
    "***\n",
    "**<center><font size = \"6\"> Part 1 - Risk Model Challenge Analysis</font><center>**\n",
    "***\n",
    "<center><font size = \"2\">Prepared by: Nahim Olguin<center>"
   ],
   "metadata": {
    "collapsed": false
   },
   "id": "ca16b0dcbd702783"
  },
  {
   "cell_type": "code",
   "execution_count": null,
   "outputs": [],
   "source": [],
   "metadata": {
    "collapsed": false
   },
   "id": "63614378b6fd1858"
  }
 ],
 "metadata": {
  "kernelspec": {
   "display_name": "Python 3",
   "language": "python",
   "name": "python3"
  },
  "language_info": {
   "codemirror_mode": {
    "name": "ipython",
    "version": 2
   },
   "file_extension": ".py",
   "mimetype": "text/x-python",
   "name": "python",
   "nbconvert_exporter": "python",
   "pygments_lexer": "ipython2",
   "version": "2.7.6"
  }
 },
 "nbformat": 4,
 "nbformat_minor": 5
}
